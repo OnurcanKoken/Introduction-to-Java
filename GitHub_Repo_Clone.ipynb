{
  "nbformat": 4,
  "nbformat_minor": 0,
  "metadata": {
    "colab": {
      "name": "GitHub_Repo_Clone.ipynb",
      "provenance": [],
      "authorship_tag": "ABX9TyOl5xH6JSDCgcmq+zyl3Uyo",
      "include_colab_link": true
    },
    "kernelspec": {
      "name": "python3",
      "display_name": "Python 3"
    }
  },
  "cells": [
    {
      "cell_type": "markdown",
      "metadata": {
        "id": "view-in-github",
        "colab_type": "text"
      },
      "source": [
        "<a href=\"https://colab.research.google.com/github/OnurcanKoken/Introduction-to-Java/blob/master/GitHub_Repo_Clone.ipynb\" target=\"_parent\"><img src=\"https://colab.research.google.com/assets/colab-badge.svg\" alt=\"Open In Colab\"/></a>"
      ]
    },
    {
      "cell_type": "markdown",
      "metadata": {
        "id": "PE2MLT_24hRc",
        "colab_type": "text"
      },
      "source": [
        "How to clone a GitHub Repository to Google Drive and Colaboratory?\n"
      ]
    },
    {
      "cell_type": "markdown",
      "metadata": {
        "id": "hD5UG4tp_lLy",
        "colab_type": "text"
      },
      "source": [
        "1. Connect your google colab runtime to your Google Drive using this commands,\n",
        "\n"
      ]
    },
    {
      "cell_type": "code",
      "metadata": {
        "id": "JnKHncJa_p2p",
        "colab_type": "code",
        "outputId": "0d9745de-7c63-40cb-c449-8b419d03bb95",
        "colab": {
          "base_uri": "https://localhost:8080/",
          "height": 34
        }
      },
      "source": [
        "from google.colab import drive\n",
        "drive.mount('/content/drive')"
      ],
      "execution_count": 18,
      "outputs": [
        {
          "output_type": "stream",
          "text": [
            "Drive already mounted at /content/drive; to attempt to forcibly remount, call drive.mount(\"/content/drive\", force_remount=True).\n"
          ],
          "name": "stdout"
        }
      ]
    },
    {
      "cell_type": "markdown",
      "metadata": {
        "id": "u0myi0K5_t9k",
        "colab_type": "text"
      },
      "source": [
        "2. Set current directory the path you want to clone the Git project there,\n",
        "\n",
        "/At the left side, there are files that you have in your Drive, so you can select one and rigth click on it, copy the path easily./\n",
        "\n",
        "\n",
        "  As an example;"
      ]
    },
    {
      "cell_type": "code",
      "metadata": {
        "id": "Pc1HZC-F_6gq",
        "colab_type": "code",
        "colab": {}
      },
      "source": [
        "#!pwd #show the current directory which is /content/drive since we selected at the beginning of mounting drive\n",
        "#actual path: /content/drive/My Drive/Machine Learning\n",
        "!cd drive/My\\ Drive/Machine\\ Learning # don't forget to use ! in the beginning of cd command"
      ],
      "execution_count": 0,
      "outputs": []
    },
    {
      "cell_type": "markdown",
      "metadata": {
        "id": "X196yZrVypNX",
        "colab_type": "text"
      },
      "source": [
        "If you will get an error,\n",
        "\n",
        "\n",
        "*   Check current directory `!pwd` and modify your path depending on the result\n",
        "*   If you want to go previous directory `cd -`\n",
        "*   If you want to go n'th previous directory `cd -n`\n",
        "*   You can also try just `cd <path>` without !\n",
        "*   Or this might be helpful as well `%cd <path>`\n",
        "\n",
        "Why do we use % or !\n",
        "\n",
        "\n",
        "*   You need `%` because changing directory is relevant to the environment of the current notebook but not to the entire server runtime.\n",
        "\n",
        "*   Use `!` if the command is one that's okay to run in a separate shell. Use `%` if the command needs to be run on the specific notebook.\n",
        "\n",
        "\n",
        "\n",
        "\n"
      ]
    },
    {
      "cell_type": "markdown",
      "metadata": {
        "id": "0vz79lvcAV4f",
        "colab_type": "text"
      },
      "source": [
        "3. Clone the Git project,"
      ]
    },
    {
      "cell_type": "code",
      "metadata": {
        "id": "53z9UPiaAkXu",
        "colab_type": "code",
        "outputId": "cd0ca2e3-39e2-4a4d-e6fd-7850899cf3a3",
        "colab": {
          "base_uri": "https://localhost:8080/",
          "height": 87
        }
      },
      "source": [
        "!git clone https://github.com/OnurcanKoken/edx_MIT_problems/"
      ],
      "execution_count": 0,
      "outputs": [
        {
          "output_type": "stream",
          "text": [
            "Cloning into 'edx_MIT_problems'...\n",
            "remote: Enumerating objects: 70, done.\u001b[K\n",
            "remote: Total 70 (delta 0), reused 0 (delta 0), pack-reused 70\u001b[K\n",
            "Unpacking objects: 100% (70/70), done.\n"
          ],
          "name": "stdout"
        }
      ]
    },
    {
      "cell_type": "markdown",
      "metadata": {
        "id": "ABCp7zM6AmF-",
        "colab_type": "text"
      },
      "source": [
        "Now you would have the cloned Git project in Machine Learning folder in your Google Drive (which is also connected to your Google Colab runtime machine)"
      ]
    },
    {
      "cell_type": "markdown",
      "metadata": {
        "id": "9-Xi6muQBN4h",
        "colab_type": "text"
      },
      "source": [
        "4. Go to your Google Drive (using browser or etc) and then go to the \"projects\" folder and open the .ipynb file that you want to use in Google Colab."
      ]
    },
    {
      "cell_type": "markdown",
      "metadata": {
        "id": "g8cK29cWBR4l",
        "colab_type": "text"
      },
      "source": [
        "5. Now you have Google Colab runtime with the .ipynb that you wanted to use which is also connected to your Google Drive and all cloned git files are in the Colab runtime's storage."
      ]
    },
    {
      "cell_type": "markdown",
      "metadata": {
        "id": "xziVEnXBBVdO",
        "colab_type": "text"
      },
      "source": [
        "References: \n",
        "\n",
        "https://stackoverflow.com/questions/48350226/methods-for-using-git-with-google-colab\n",
        "\n",
        "\n",
        "https://stackoverflow.com/questions/48298146/changing-directory-in-google-colab-breaking-out-of-the-python-interpreter\n"
      ]
    },
    {
      "cell_type": "code",
      "metadata": {
        "id": "Wjyt1QW7R0L4",
        "colab_type": "code",
        "colab": {}
      },
      "source": [
        ""
      ],
      "execution_count": 0,
      "outputs": []
    }
  ]
}